{
 "cells": [
  {
   "cell_type": "code",
   "execution_count": 2,
   "id": "afc9d2d1",
   "metadata": {},
   "outputs": [
    {
     "name": "stdout",
     "output_type": "stream",
     "text": [
      "Requirement already satisfied: requests in c:\\users\\wasadmin\\anaconda3\\lib\\site-packages (2.28.1)\n",
      "Requirement already satisfied: charset-normalizer<3,>=2 in c:\\users\\wasadmin\\anaconda3\\lib\\site-packages (from requests) (2.0.4)\n",
      "Requirement already satisfied: urllib3<1.27,>=1.21.1 in c:\\users\\wasadmin\\anaconda3\\lib\\site-packages (from requests) (1.26.14)\n",
      "Requirement already satisfied: idna<4,>=2.5 in c:\\users\\wasadmin\\anaconda3\\lib\\site-packages (from requests) (3.4)\n",
      "Requirement already satisfied: certifi>=2017.4.17 in c:\\users\\wasadmin\\anaconda3\\lib\\site-packages (from requests) (2022.12.7)\n",
      "Note: you may need to restart the kernel to use updated packages.\n"
     ]
    }
   ],
   "source": [
    "%pip install requests"
   ]
  },
  {
   "cell_type": "code",
   "execution_count": 3,
   "id": "338ec81e",
   "metadata": {},
   "outputs": [],
   "source": [
    "import requests"
   ]
  },
  {
   "cell_type": "code",
   "execution_count": 28,
   "id": "c659614a",
   "metadata": {},
   "outputs": [
    {
     "name": "stdout",
     "output_type": "stream",
     "text": [
      "Enter the name of a city: hartfor\n",
      "Enter the API Key: \n"
     ]
    }
   ],
   "source": [
    "API_KEY = '51feb6438334e6502cf871203e59a9af'\n",
    "City = (input(\"Enter the name of a city: \") or \"Vancouver\")\n",
    "API = (input(\"Enter the API Key: \") or API_KEY)\n",
    "\n",
    "URL = f\"https://api.openweathermap.org/data/2.5/weather?q={City}&appid={API}\""
   ]
  },
  {
   "cell_type": "code",
   "execution_count": 29,
   "id": "5fda5ab9",
   "metadata": {},
   "outputs": [
    {
     "name": "stdout",
     "output_type": "stream",
     "text": [
      "There was an error with code 404 please try again\n"
     ]
    }
   ],
   "source": [
    "response = requests.get(URL)\n",
    "\n",
    "code = response.json()[\"cod\"]\n",
    "\n",
    "if code == 200:\n",
    "    #print(response.json())\n",
    "    weather = response.json()['weather'][0]\n",
    "    \n",
    "    des = weather['description']\n",
    "    print(f\"The weather in {City} has {des}\")\n",
    "else:\n",
    "    print(f\"There was an error with code {code} please try again\")"
   ]
  },
  {
   "cell_type": "code",
   "execution_count": 32,
   "id": "c009e09d",
   "metadata": {},
   "outputs": [
    {
     "name": "stdout",
     "output_type": "stream",
     "text": [
      "Enter the name of a city or type exit to end the program: Seattle\n",
      "Enter the API Key: \n",
      "The weather in Seattle has smoke\n",
      "\n",
      "Enter the name of a city or type exit to end the program: exit\n",
      "You have exited the program\n",
      "\n"
     ]
    }
   ],
   "source": [
    "### Indside a While Loop\n",
    "\n",
    "exit = False\n",
    "\n",
    "while exit == False:\n",
    "    City_Loop = (input(\"Enter the name of a city or type exit to end the program: \") or \"Vancouver\")\n",
    "    if(City_Loop.strip().upper() == \"EXIT\"):\n",
    "        exit = True\n",
    "        print(\"You have exited the program\")\n",
    "        print()\n",
    "    else:\n",
    "        API_Loop = (input(\"Enter the API Key: \") or API_KEY)\n",
    "        URL = f\"https://api.openweathermap.org/data/2.5/weather?q={City_Loop}&appid={API_Loop}\"\n",
    "        \n",
    "        Response_Loop = requests.get(URL)\n",
    "\n",
    "        Code_Loop = Response_Loop.json()[\"cod\"]\n",
    "\n",
    "        if Code_Loop == 200:\n",
    "            #print(response.json())\n",
    "            Weather_Loop = Response_Loop.json()['weather'][0]\n",
    "\n",
    "            Des_Loop = Weather_Loop['description']\n",
    "            print(f\"The weather in {City_Loop} has {Des_Loop}\")\n",
    "            print()\n",
    "        else:\n",
    "            print(f\"There was an error with code {Code_Loop} please try again\")\n",
    "            print()"
   ]
  },
  {
   "cell_type": "code",
   "execution_count": null,
   "id": "40512628",
   "metadata": {},
   "outputs": [],
   "source": []
  }
 ],
 "metadata": {
  "kernelspec": {
   "display_name": "Python 3 (ipykernel)",
   "language": "python",
   "name": "python3"
  },
  "language_info": {
   "codemirror_mode": {
    "name": "ipython",
    "version": 3
   },
   "file_extension": ".py",
   "mimetype": "text/x-python",
   "name": "python",
   "nbconvert_exporter": "python",
   "pygments_lexer": "ipython3",
   "version": "3.10.9"
  }
 },
 "nbformat": 4,
 "nbformat_minor": 5
}
